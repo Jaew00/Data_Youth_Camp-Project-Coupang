{
 "cells": [
  {
   "cell_type": "code",
   "execution_count": 2,
   "id": "e4d0fefa",
   "metadata": {},
   "outputs": [],
   "source": [
    "import pandas as pd\n",
    "import re\n",
    "import matplotlib.pyplot as plt\n",
    "import numpy as np"
   ]
  },
  {
   "cell_type": "code",
   "execution_count": 3,
   "id": "2fde5ce7",
   "metadata": {},
   "outputs": [],
   "source": [
    "app_data = pd.read_csv('Appdata(coupang-eats).csv')"
   ]
  },
  {
   "cell_type": "code",
   "execution_count": 4,
   "id": "2703be64",
   "metadata": {},
   "outputs": [
    {
     "data": {
      "text/html": [
       "<div>\n",
       "<style scoped>\n",
       "    .dataframe tbody tr th:only-of-type {\n",
       "        vertical-align: middle;\n",
       "    }\n",
       "\n",
       "    .dataframe tbody tr th {\n",
       "        vertical-align: top;\n",
       "    }\n",
       "\n",
       "    .dataframe thead th {\n",
       "        text-align: right;\n",
       "    }\n",
       "</style>\n",
       "<table border=\"1\" class=\"dataframe\">\n",
       "  <thead>\n",
       "    <tr style=\"text-align: right;\">\n",
       "      <th></th>\n",
       "      <th>review</th>\n",
       "      <th>date</th>\n",
       "      <th>title</th>\n",
       "      <th>rating</th>\n",
       "      <th>userName</th>\n",
       "      <th>isEdited</th>\n",
       "      <th>developerResponse</th>\n",
       "    </tr>\n",
       "  </thead>\n",
       "  <tbody>\n",
       "    <tr>\n",
       "      <th>0</th>\n",
       "      <td>앱자체는 좋아 별점 5점으로 리뷰 남겨요\\n\\n전까진 잘 썼는데 요즘 오류가 너무 ...</td>\n",
       "      <td>2020-11-17 06:23:54</td>\n",
       "      <td>잘 쓰고 있었는데...</td>\n",
       "      <td>5</td>\n",
       "      <td>오류해결좀55467</td>\n",
       "      <td>False</td>\n",
       "      <td>NaN</td>\n",
       "    </tr>\n",
       "    <tr>\n",
       "      <th>1</th>\n",
       "      <td>정말 리뷰 잘 안쓰는데 너무 좋아서 리뷰 남겨요. 원래도 로켓배송을 너무 좋아해서 ...</td>\n",
       "      <td>2019-09-11 02:15:15</td>\n",
       "      <td>너무너무너무너무 좋아요!!!!!!!!!!!</td>\n",
       "      <td>5</td>\n",
       "      <td>니니22</td>\n",
       "      <td>False</td>\n",
       "      <td>{'id': 13870810, 'body': '고객님 소중한 피드백 감사합니다. 리...</td>\n",
       "    </tr>\n",
       "    <tr>\n",
       "      <th>2</th>\n",
       "      <td>배민, 요기요 사용할 때는 2주에 한 번 꼴로 시켜먹을까 말까 했어요. 최소주문금액...</td>\n",
       "      <td>2019-08-09 09:50:06</td>\n",
       "      <td>배달의 민족, 요기요 어플 삭제했어요</td>\n",
       "      <td>5</td>\n",
       "      <td>안뎌린베</td>\n",
       "      <td>False</td>\n",
       "      <td>{'id': 13870664, 'body': '고객님 소중한 피드백 감사합니다. 앞...</td>\n",
       "    </tr>\n",
       "    <tr>\n",
       "      <th>3</th>\n",
       "      <td>아니 이렇게 하면 남는게 있긴합니까? 떡볶이를 15분만에 받아서 먹었습니다;;;;;...</td>\n",
       "      <td>2019-08-14 05:45:29</td>\n",
       "      <td>진짜 쿠팡안되겠네요</td>\n",
       "      <td>5</td>\n",
       "      <td>홍홍쓰쓰</td>\n",
       "      <td>False</td>\n",
       "      <td>{'id': 13870673, 'body': '고객님 소중한 피드백 감사합니다. 앞...</td>\n",
       "    </tr>\n",
       "    <tr>\n",
       "      <th>4</th>\n",
       "      <td>강서구에도 쿠팡이츠가 들어 왔네요. 평소 배민을 이용하는데 오늘은 배송비가 무료여서...</td>\n",
       "      <td>2019-08-09 11:11:53</td>\n",
       "      <td>역시 로켓배달</td>\n",
       "      <td>5</td>\n",
       "      <td>테오신</td>\n",
       "      <td>False</td>\n",
       "      <td>{'id': 13870705, 'body': '고객님 소중한 피드백 감사합니다. 앞...</td>\n",
       "    </tr>\n",
       "  </tbody>\n",
       "</table>\n",
       "</div>"
      ],
      "text/plain": [
       "                                              review                 date  \\\n",
       "0  앱자체는 좋아 별점 5점으로 리뷰 남겨요\\n\\n전까진 잘 썼는데 요즘 오류가 너무 ...  2020-11-17 06:23:54   \n",
       "1  정말 리뷰 잘 안쓰는데 너무 좋아서 리뷰 남겨요. 원래도 로켓배송을 너무 좋아해서 ...  2019-09-11 02:15:15   \n",
       "2  배민, 요기요 사용할 때는 2주에 한 번 꼴로 시켜먹을까 말까 했어요. 최소주문금액...  2019-08-09 09:50:06   \n",
       "3  아니 이렇게 하면 남는게 있긴합니까? 떡볶이를 15분만에 받아서 먹었습니다;;;;;...  2019-08-14 05:45:29   \n",
       "4  강서구에도 쿠팡이츠가 들어 왔네요. 평소 배민을 이용하는데 오늘은 배송비가 무료여서...  2019-08-09 11:11:53   \n",
       "\n",
       "                     title  rating    userName  isEdited  \\\n",
       "0             잘 쓰고 있었는데...       5  오류해결좀55467     False   \n",
       "1  너무너무너무너무 좋아요!!!!!!!!!!!       5        니니22     False   \n",
       "2     배달의 민족, 요기요 어플 삭제했어요       5        안뎌린베     False   \n",
       "3               진짜 쿠팡안되겠네요       5        홍홍쓰쓰     False   \n",
       "4                  역시 로켓배달       5         테오신     False   \n",
       "\n",
       "                                   developerResponse  \n",
       "0                                                NaN  \n",
       "1  {'id': 13870810, 'body': '고객님 소중한 피드백 감사합니다. 리...  \n",
       "2  {'id': 13870664, 'body': '고객님 소중한 피드백 감사합니다. 앞...  \n",
       "3  {'id': 13870673, 'body': '고객님 소중한 피드백 감사합니다. 앞...  \n",
       "4  {'id': 13870705, 'body': '고객님 소중한 피드백 감사합니다. 앞...  "
      ]
     },
     "execution_count": 4,
     "metadata": {},
     "output_type": "execute_result"
    }
   ],
   "source": [
    "app_data.head()"
   ]
  },
  {
   "cell_type": "code",
   "execution_count": 5,
   "id": "edc2fa1f",
   "metadata": {},
   "outputs": [
    {
     "data": {
      "text/plain": [
       "(2812, 5)"
      ]
     },
     "execution_count": 5,
     "metadata": {},
     "output_type": "execute_result"
    }
   ],
   "source": [
    "app_data['review'].nunique(), app_data['rating'].nunique()"
   ]
  },
  {
   "cell_type": "code",
   "execution_count": 6,
   "id": "4bf2a021",
   "metadata": {},
   "outputs": [
    {
     "name": "stderr",
     "output_type": "stream",
     "text": [
      "<ipython-input-6-5e160fa50950>:2: FutureWarning: The default value of regex will change from True to False in a future version.\n",
      "  app_data['review'] = app_data['review'].str.replace('[^ㄱ-ㅎㅏ-ㅣ가-힣 ]', '')\n"
     ]
    }
   ],
   "source": [
    "# 정규 표현식 적용\n",
    "app_data['review'] = app_data['review'].str.replace('[^ㄱ-ㅎㅏ-ㅣ가-힣 ]', '')"
   ]
  },
  {
   "cell_type": "code",
   "execution_count": 7,
   "id": "5e11950e",
   "metadata": {},
   "outputs": [
    {
     "name": "stdout",
     "output_type": "stream",
     "text": [
      "review                 30\n",
      "date                    0\n",
      "title                   0\n",
      "rating                  0\n",
      "userName                0\n",
      "isEdited                0\n",
      "developerResponse    2764\n",
      "dtype: int64\n"
     ]
    },
    {
     "name": "stderr",
     "output_type": "stream",
     "text": [
      "<ipython-input-7-bde4a6ab2f26>:1: FutureWarning: The default value of regex will change from True to False in a future version.\n",
      "  app_data['review'] = app_data['review'].str.replace('^ +', \"\") # white space 데이터를 empty value로 변경\n"
     ]
    }
   ],
   "source": [
    "app_data['review'] = app_data['review'].str.replace('^ +', \"\") # white space 데이터를 empty value로 변경\n",
    "app_data['review'].replace('', np.nan, inplace=True)\n",
    "print(app_data.isnull().sum())"
   ]
  },
  {
   "cell_type": "code",
   "execution_count": 8,
   "id": "4b3a5917",
   "metadata": {},
   "outputs": [],
   "source": [
    "app_df = app_data.drop(['userName', 'isEdited', 'developerResponse', 'title'], axis = 1, inplace = True)"
   ]
  },
  {
   "cell_type": "code",
   "execution_count": 9,
   "id": "a15378be",
   "metadata": {},
   "outputs": [
    {
     "name": "stdout",
     "output_type": "stream",
     "text": [
      "2830\n"
     ]
    }
   ],
   "source": [
    "app_data = app_data.dropna()\n",
    "print(len(app_data))"
   ]
  },
  {
   "cell_type": "code",
   "execution_count": 10,
   "id": "7c8bc086",
   "metadata": {},
   "outputs": [
    {
     "data": {
      "text/html": [
       "<div>\n",
       "<style scoped>\n",
       "    .dataframe tbody tr th:only-of-type {\n",
       "        vertical-align: middle;\n",
       "    }\n",
       "\n",
       "    .dataframe tbody tr th {\n",
       "        vertical-align: top;\n",
       "    }\n",
       "\n",
       "    .dataframe thead th {\n",
       "        text-align: right;\n",
       "    }\n",
       "</style>\n",
       "<table border=\"1\" class=\"dataframe\">\n",
       "  <thead>\n",
       "    <tr style=\"text-align: right;\">\n",
       "      <th></th>\n",
       "      <th>review</th>\n",
       "      <th>date</th>\n",
       "      <th>rating</th>\n",
       "    </tr>\n",
       "  </thead>\n",
       "  <tbody>\n",
       "    <tr>\n",
       "      <th>0</th>\n",
       "      <td>앱자체는 좋아 별점 점으로 리뷰 남겨요전까진 잘 썼는데 요즘 오류가 너무 심합니다 ...</td>\n",
       "      <td>2020-11-17 06:23:54</td>\n",
       "      <td>5</td>\n",
       "    </tr>\n",
       "    <tr>\n",
       "      <th>1</th>\n",
       "      <td>정말 리뷰 잘 안쓰는데 너무 좋아서 리뷰 남겨요 원래도 로켓배송을 너무 좋아해서 정...</td>\n",
       "      <td>2019-09-11 02:15:15</td>\n",
       "      <td>5</td>\n",
       "    </tr>\n",
       "    <tr>\n",
       "      <th>2</th>\n",
       "      <td>배민 요기요 사용할 때는 주에 한 번 꼴로 시켜먹을까 말까 했어요 최소주문금액 배달...</td>\n",
       "      <td>2019-08-09 09:50:06</td>\n",
       "      <td>5</td>\n",
       "    </tr>\n",
       "    <tr>\n",
       "      <th>3</th>\n",
       "      <td>아니 이렇게 하면 남는게 있긴합니까 떡볶이를 분만에 받아서 먹었습니다 최소주문금액같...</td>\n",
       "      <td>2019-08-14 05:45:29</td>\n",
       "      <td>5</td>\n",
       "    </tr>\n",
       "    <tr>\n",
       "      <th>4</th>\n",
       "      <td>강서구에도 쿠팡이츠가 들어 왔네요 평소 배민을 이용하는데 오늘은 배송비가 무료여서 ...</td>\n",
       "      <td>2019-08-09 11:11:53</td>\n",
       "      <td>5</td>\n",
       "    </tr>\n",
       "    <tr>\n",
       "      <th>...</th>\n",
       "      <td>...</td>\n",
       "      <td>...</td>\n",
       "      <td>...</td>\n",
       "    </tr>\n",
       "    <tr>\n",
       "      <th>2855</th>\n",
       "      <td>진짜빠르고 걸어서도 배송 와요 ㅋㅋㅋㅋ</td>\n",
       "      <td>2019-08-08 10:55:55</td>\n",
       "      <td>5</td>\n",
       "    </tr>\n",
       "    <tr>\n",
       "      <th>2856</th>\n",
       "      <td>배달도 빨라최소 주문금액도 없어심지어 배달비도 없네 ㅋㅋㅋㅋ이게 바로 혁명이지</td>\n",
       "      <td>2019-07-30 03:09:20</td>\n",
       "      <td>5</td>\n",
       "    </tr>\n",
       "    <tr>\n",
       "      <th>2857</th>\n",
       "      <td>음식점은 기존 배달앱하고 다 중복되네요 고객유치하려고 그러는거같은데 어느정도 고객유...</td>\n",
       "      <td>2019-07-25 05:52:32</td>\n",
       "      <td>5</td>\n",
       "    </tr>\n",
       "    <tr>\n",
       "      <th>2858</th>\n",
       "      <td>앱만 다운 받고 부산 언제 될지 기다려요 힘드시더라도 부산도 얼른 개설 부탁드려요 ...</td>\n",
       "      <td>2019-07-24 08:26:24</td>\n",
       "      <td>5</td>\n",
       "    </tr>\n",
       "    <tr>\n",
       "      <th>2859</th>\n",
       "      <td>언제나 믿고 쓰는 쿠팡인데 쓰다 보니 이건 좀 아닌 거 같아서요 쿠팡 측 잘못이기라...</td>\n",
       "      <td>2019-07-18 07:38:47</td>\n",
       "      <td>4</td>\n",
       "    </tr>\n",
       "  </tbody>\n",
       "</table>\n",
       "<p>2830 rows × 3 columns</p>\n",
       "</div>"
      ],
      "text/plain": [
       "                                                 review                 date  \\\n",
       "0     앱자체는 좋아 별점 점으로 리뷰 남겨요전까진 잘 썼는데 요즘 오류가 너무 심합니다 ...  2020-11-17 06:23:54   \n",
       "1     정말 리뷰 잘 안쓰는데 너무 좋아서 리뷰 남겨요 원래도 로켓배송을 너무 좋아해서 정...  2019-09-11 02:15:15   \n",
       "2     배민 요기요 사용할 때는 주에 한 번 꼴로 시켜먹을까 말까 했어요 최소주문금액 배달...  2019-08-09 09:50:06   \n",
       "3     아니 이렇게 하면 남는게 있긴합니까 떡볶이를 분만에 받아서 먹었습니다 최소주문금액같...  2019-08-14 05:45:29   \n",
       "4     강서구에도 쿠팡이츠가 들어 왔네요 평소 배민을 이용하는데 오늘은 배송비가 무료여서 ...  2019-08-09 11:11:53   \n",
       "...                                                 ...                  ...   \n",
       "2855                              진짜빠르고 걸어서도 배송 와요 ㅋㅋㅋㅋ  2019-08-08 10:55:55   \n",
       "2856        배달도 빨라최소 주문금액도 없어심지어 배달비도 없네 ㅋㅋㅋㅋ이게 바로 혁명이지  2019-07-30 03:09:20   \n",
       "2857  음식점은 기존 배달앱하고 다 중복되네요 고객유치하려고 그러는거같은데 어느정도 고객유...  2019-07-25 05:52:32   \n",
       "2858  앱만 다운 받고 부산 언제 될지 기다려요 힘드시더라도 부산도 얼른 개설 부탁드려요 ...  2019-07-24 08:26:24   \n",
       "2859  언제나 믿고 쓰는 쿠팡인데 쓰다 보니 이건 좀 아닌 거 같아서요 쿠팡 측 잘못이기라...  2019-07-18 07:38:47   \n",
       "\n",
       "      rating  \n",
       "0          5  \n",
       "1          5  \n",
       "2          5  \n",
       "3          5  \n",
       "4          5  \n",
       "...      ...  \n",
       "2855       5  \n",
       "2856       5  \n",
       "2857       5  \n",
       "2858       5  \n",
       "2859       4  \n",
       "\n",
       "[2830 rows x 3 columns]"
      ]
     },
     "execution_count": 10,
     "metadata": {},
     "output_type": "execute_result"
    }
   ],
   "source": [
    "app_data"
   ]
  },
  {
   "cell_type": "code",
   "execution_count": 11,
   "id": "e2c4203f",
   "metadata": {},
   "outputs": [],
   "source": [
    "app_data.to_csv('clean_coupang-eats_v1.0.csv', index=False, encoding = 'utf-8-sig')"
   ]
  },
  {
   "cell_type": "code",
   "execution_count": 12,
   "id": "7c03655f",
   "metadata": {},
   "outputs": [],
   "source": [
    "app_data = pd.read_csv('Appdata(coupang-eats-rider).csv')"
   ]
  },
  {
   "cell_type": "code",
   "execution_count": 13,
   "id": "477e757f",
   "metadata": {
    "scrolled": true
   },
   "outputs": [
    {
     "data": {
      "text/html": [
       "<div>\n",
       "<style scoped>\n",
       "    .dataframe tbody tr th:only-of-type {\n",
       "        vertical-align: middle;\n",
       "    }\n",
       "\n",
       "    .dataframe tbody tr th {\n",
       "        vertical-align: top;\n",
       "    }\n",
       "\n",
       "    .dataframe thead th {\n",
       "        text-align: right;\n",
       "    }\n",
       "</style>\n",
       "<table border=\"1\" class=\"dataframe\">\n",
       "  <thead>\n",
       "    <tr style=\"text-align: right;\">\n",
       "      <th></th>\n",
       "      <th>DATE</th>\n",
       "      <th>STAR</th>\n",
       "      <th>LIKE</th>\n",
       "      <th>DISLIKE</th>\n",
       "      <th>TITLE</th>\n",
       "      <th>REVIEW</th>\n",
       "    </tr>\n",
       "  </thead>\n",
       "  <tbody>\n",
       "    <tr>\n",
       "      <th>0</th>\n",
       "      <td>2021-08-03 17:41:39</td>\n",
       "      <td>4</td>\n",
       "      <td>0</td>\n",
       "      <td>0</td>\n",
       "      <td>배달원</td>\n",
       "      <td>안녕하세요 쿠팡이츠를 하고있는 배달원입니다 다름이아니라 제가 이글를 올리는 이유는 ...</td>\n",
       "    </tr>\n",
       "    <tr>\n",
       "      <th>1</th>\n",
       "      <td>2021-08-02 23:40:59</td>\n",
       "      <td>1</td>\n",
       "      <td>0</td>\n",
       "      <td>0</td>\n",
       "      <td>배달지역</td>\n",
       "      <td>아니 무슨 배달지역이 구분이없네 무슨 왕복 10km를 5천원에 보낸다고 4개 연달아...</td>\n",
       "    </tr>\n",
       "    <tr>\n",
       "      <th>2</th>\n",
       "      <td>2021-08-02 10:49:23</td>\n",
       "      <td>1</td>\n",
       "      <td>0</td>\n",
       "      <td>0</td>\n",
       "      <td>안전교육수료</td>\n",
       "      <td>아니 안전교육수료하고 배달1건하면 2만원 준다면서 정산할때는 2만원만 쏙 빼놓고 주...</td>\n",
       "    </tr>\n",
       "    <tr>\n",
       "      <th>3</th>\n",
       "      <td>2021-08-01 23:07:43</td>\n",
       "      <td>1</td>\n",
       "      <td>0</td>\n",
       "      <td>0</td>\n",
       "      <td>단가 후려치네</td>\n",
       "      <td>인제는 하다하다 프로모션에 기본단가까지 후려치네...\\n왜 어플지도에 나오는 금액이...</td>\n",
       "    </tr>\n",
       "    <tr>\n",
       "      <th>4</th>\n",
       "      <td>2021-07-31 13:29:38</td>\n",
       "      <td>1</td>\n",
       "      <td>0</td>\n",
       "      <td>0</td>\n",
       "      <td>잔대가리 굴리는 곰팡이츠</td>\n",
       "      <td>이벤트 하나하나가 다 낚시, 돈주기 싫어서 평점낚시는 기본으로 깔고 순진한 파트너 ...</td>\n",
       "    </tr>\n",
       "  </tbody>\n",
       "</table>\n",
       "</div>"
      ],
      "text/plain": [
       "                  DATE  STAR  LIKE  DISLIKE          TITLE  \\\n",
       "0  2021-08-03 17:41:39     4     0        0            배달원   \n",
       "1  2021-08-02 23:40:59     1     0        0           배달지역   \n",
       "2  2021-08-02 10:49:23     1     0        0         안전교육수료   \n",
       "3  2021-08-01 23:07:43     1     0        0        단가 후려치네   \n",
       "4  2021-07-31 13:29:38     1     0        0  잔대가리 굴리는 곰팡이츠   \n",
       "\n",
       "                                              REVIEW  \n",
       "0  안녕하세요 쿠팡이츠를 하고있는 배달원입니다 다름이아니라 제가 이글를 올리는 이유는 ...  \n",
       "1  아니 무슨 배달지역이 구분이없네 무슨 왕복 10km를 5천원에 보낸다고 4개 연달아...  \n",
       "2  아니 안전교육수료하고 배달1건하면 2만원 준다면서 정산할때는 2만원만 쏙 빼놓고 주...  \n",
       "3  인제는 하다하다 프로모션에 기본단가까지 후려치네...\\n왜 어플지도에 나오는 금액이...  \n",
       "4  이벤트 하나하나가 다 낚시, 돈주기 싫어서 평점낚시는 기본으로 깔고 순진한 파트너 ...  "
      ]
     },
     "execution_count": 13,
     "metadata": {},
     "output_type": "execute_result"
    }
   ],
   "source": [
    "app_data.head()"
   ]
  },
  {
   "cell_type": "code",
   "execution_count": 14,
   "id": "f6bd4b8c",
   "metadata": {},
   "outputs": [
    {
     "data": {
      "text/plain": [
       "(490, 5)"
      ]
     },
     "execution_count": 14,
     "metadata": {},
     "output_type": "execute_result"
    }
   ],
   "source": [
    "app_data['REVIEW'].nunique(), app_data['STAR'].nunique()"
   ]
  },
  {
   "cell_type": "code",
   "execution_count": 15,
   "id": "31928f11",
   "metadata": {},
   "outputs": [],
   "source": [
    "app_data.drop_duplicates(subset=['REVIEW'], inplace = True) # review 열에서 중복인 내용이 있다면 제거"
   ]
  },
  {
   "cell_type": "code",
   "execution_count": 16,
   "id": "0d5a859f",
   "metadata": {},
   "outputs": [
    {
     "data": {
      "text/plain": [
       "490"
      ]
     },
     "execution_count": 16,
     "metadata": {},
     "output_type": "execute_result"
    }
   ],
   "source": [
    "len(app_data)"
   ]
  },
  {
   "cell_type": "code",
   "execution_count": 17,
   "id": "7e9ae8d8",
   "metadata": {},
   "outputs": [
    {
     "name": "stderr",
     "output_type": "stream",
     "text": [
      "<ipython-input-17-ba0acbd68f17>:2: FutureWarning: The default value of regex will change from True to False in a future version.\n",
      "  app_data['REVIEW'] = app_data['REVIEW'].str.replace('[^ㄱ-ㅎㅏ-ㅣ가-힣 ]', '')\n"
     ]
    }
   ],
   "source": [
    "# 정규 표현식 적용\n",
    "app_data['REVIEW'] = app_data['REVIEW'].str.replace('[^ㄱ-ㅎㅏ-ㅣ가-힣 ]', '')"
   ]
  },
  {
   "cell_type": "code",
   "execution_count": 18,
   "id": "47e3f265",
   "metadata": {},
   "outputs": [
    {
     "name": "stdout",
     "output_type": "stream",
     "text": [
      "DATE       0\n",
      "STAR       0\n",
      "LIKE       0\n",
      "DISLIKE    0\n",
      "TITLE      0\n",
      "REVIEW     2\n",
      "dtype: int64\n"
     ]
    },
    {
     "name": "stderr",
     "output_type": "stream",
     "text": [
      "<ipython-input-18-cd08b5a7506d>:1: FutureWarning: The default value of regex will change from True to False in a future version.\n",
      "  app_data['REVIEW'] = app_data['REVIEW'].str.replace('^ +', \"\") # white space 데이터를 empty value로 변경\n"
     ]
    }
   ],
   "source": [
    "app_data['REVIEW'] = app_data['REVIEW'].str.replace('^ +', \"\") # white space 데이터를 empty value로 변경\n",
    "app_data['REVIEW'].replace('', np.nan, inplace=True)\n",
    "print(app_data.isnull().sum())"
   ]
  },
  {
   "cell_type": "code",
   "execution_count": 20,
   "id": "0749f8e2",
   "metadata": {},
   "outputs": [],
   "source": [
    "app_df = app_data.drop(['LIKE', 'DISLIKE', 'TITLE'], axis = 1, inplace = True)"
   ]
  },
  {
   "cell_type": "code",
   "execution_count": 21,
   "id": "f9bc1faf",
   "metadata": {},
   "outputs": [
    {
     "data": {
      "text/html": [
       "<div>\n",
       "<style scoped>\n",
       "    .dataframe tbody tr th:only-of-type {\n",
       "        vertical-align: middle;\n",
       "    }\n",
       "\n",
       "    .dataframe tbody tr th {\n",
       "        vertical-align: top;\n",
       "    }\n",
       "\n",
       "    .dataframe thead th {\n",
       "        text-align: right;\n",
       "    }\n",
       "</style>\n",
       "<table border=\"1\" class=\"dataframe\">\n",
       "  <thead>\n",
       "    <tr style=\"text-align: right;\">\n",
       "      <th></th>\n",
       "      <th>DATE</th>\n",
       "      <th>STAR</th>\n",
       "      <th>REVIEW</th>\n",
       "    </tr>\n",
       "  </thead>\n",
       "  <tbody>\n",
       "    <tr>\n",
       "      <th>0</th>\n",
       "      <td>2021-08-03 17:41:39</td>\n",
       "      <td>4</td>\n",
       "      <td>안녕하세요 쿠팡이츠를 하고있는 배달원입니다 다름이아니라 제가 이글를 올리는 이유는 ...</td>\n",
       "    </tr>\n",
       "    <tr>\n",
       "      <th>1</th>\n",
       "      <td>2021-08-02 23:40:59</td>\n",
       "      <td>1</td>\n",
       "      <td>아니 무슨 배달지역이 구분이없네 무슨 왕복 를 천원에 보낸다고 개 연달아 주고 취소...</td>\n",
       "    </tr>\n",
       "    <tr>\n",
       "      <th>2</th>\n",
       "      <td>2021-08-02 10:49:23</td>\n",
       "      <td>1</td>\n",
       "      <td>아니 안전교육수료하고 배달건하면 만원 준다면서 정산할때는 만원만 쏙 빼놓고 주냐 그...</td>\n",
       "    </tr>\n",
       "    <tr>\n",
       "      <th>3</th>\n",
       "      <td>2021-08-01 23:07:43</td>\n",
       "      <td>1</td>\n",
       "      <td>인제는 하다하다 프로모션에 기본단가까지 후려치네왜 어플지도에 나오는 금액이랑 내가 ...</td>\n",
       "    </tr>\n",
       "    <tr>\n",
       "      <th>4</th>\n",
       "      <td>2021-07-31 13:29:38</td>\n",
       "      <td>1</td>\n",
       "      <td>이벤트 하나하나가 다 낚시 돈주기 싫어서 평점낚시는 기본으로 깔고 순진한 파트너 렌...</td>\n",
       "    </tr>\n",
       "    <tr>\n",
       "      <th>...</th>\n",
       "      <td>...</td>\n",
       "      <td>...</td>\n",
       "      <td>...</td>\n",
       "    </tr>\n",
       "    <tr>\n",
       "      <th>485</th>\n",
       "      <td>2019-10-27 08:29:53</td>\n",
       "      <td>1</td>\n",
       "      <td>중복 콜이 안되면 시간이 돈인데 매장에서분 매번 시다리네요 이거 개선 필요합니다</td>\n",
       "    </tr>\n",
       "    <tr>\n",
       "      <th>486</th>\n",
       "      <td>2019-10-24 19:37:42</td>\n",
       "      <td>5</td>\n",
       "      <td>아직 안해봤지만 유투브에서 매장가면 무조건 기다린다는데 정말 저도 홀에 있어봤지만 ...</td>\n",
       "    </tr>\n",
       "    <tr>\n",
       "      <th>487</th>\n",
       "      <td>2019-10-23 02:37:11</td>\n",
       "      <td>3</td>\n",
       "      <td>식당업주들은 조리예상시간을 기입해서 배차신청을 하는데 쿠팡이츠는 바로 배달업무배정을...</td>\n",
       "    </tr>\n",
       "    <tr>\n",
       "      <th>488</th>\n",
       "      <td>2019-10-15 23:16:56</td>\n",
       "      <td>5</td>\n",
       "      <td>기대되네요 등</td>\n",
       "    </tr>\n",
       "    <tr>\n",
       "      <th>489</th>\n",
       "      <td>2019-10-15 23:15:52</td>\n",
       "      <td>5</td>\n",
       "      <td>드디어 아이폰 버전 나왔네요추카추카</td>\n",
       "    </tr>\n",
       "  </tbody>\n",
       "</table>\n",
       "<p>490 rows × 3 columns</p>\n",
       "</div>"
      ],
      "text/plain": [
       "                    DATE  STAR  \\\n",
       "0    2021-08-03 17:41:39     4   \n",
       "1    2021-08-02 23:40:59     1   \n",
       "2    2021-08-02 10:49:23     1   \n",
       "3    2021-08-01 23:07:43     1   \n",
       "4    2021-07-31 13:29:38     1   \n",
       "..                   ...   ...   \n",
       "485  2019-10-27 08:29:53     1   \n",
       "486  2019-10-24 19:37:42     5   \n",
       "487  2019-10-23 02:37:11     3   \n",
       "488  2019-10-15 23:16:56     5   \n",
       "489  2019-10-15 23:15:52     5   \n",
       "\n",
       "                                                REVIEW  \n",
       "0    안녕하세요 쿠팡이츠를 하고있는 배달원입니다 다름이아니라 제가 이글를 올리는 이유는 ...  \n",
       "1    아니 무슨 배달지역이 구분이없네 무슨 왕복 를 천원에 보낸다고 개 연달아 주고 취소...  \n",
       "2    아니 안전교육수료하고 배달건하면 만원 준다면서 정산할때는 만원만 쏙 빼놓고 주냐 그...  \n",
       "3    인제는 하다하다 프로모션에 기본단가까지 후려치네왜 어플지도에 나오는 금액이랑 내가 ...  \n",
       "4    이벤트 하나하나가 다 낚시 돈주기 싫어서 평점낚시는 기본으로 깔고 순진한 파트너 렌...  \n",
       "..                                                 ...  \n",
       "485       중복 콜이 안되면 시간이 돈인데 매장에서분 매번 시다리네요 이거 개선 필요합니다  \n",
       "486  아직 안해봤지만 유투브에서 매장가면 무조건 기다린다는데 정말 저도 홀에 있어봤지만 ...  \n",
       "487  식당업주들은 조리예상시간을 기입해서 배차신청을 하는데 쿠팡이츠는 바로 배달업무배정을...  \n",
       "488                                            기대되네요 등  \n",
       "489                                드디어 아이폰 버전 나왔네요추카추카  \n",
       "\n",
       "[490 rows x 3 columns]"
      ]
     },
     "execution_count": 21,
     "metadata": {},
     "output_type": "execute_result"
    }
   ],
   "source": [
    "app_data"
   ]
  },
  {
   "cell_type": "code",
   "execution_count": 22,
   "id": "3bfde9c4",
   "metadata": {
    "scrolled": false
   },
   "outputs": [
    {
     "name": "stdout",
     "output_type": "stream",
     "text": [
      "488\n"
     ]
    }
   ],
   "source": [
    "app_data = app_data.dropna()\n",
    "print(len(app_data))"
   ]
  },
  {
   "cell_type": "code",
   "execution_count": 23,
   "id": "76787b95",
   "metadata": {},
   "outputs": [],
   "source": [
    "app_data.to_csv('clean_coupang-eats-rider_v1.0.csv', index=False, encoding = 'utf-8-sig')"
   ]
  }
 ],
 "metadata": {
  "kernelspec": {
   "display_name": "Python 3",
   "language": "python",
   "name": "python3"
  },
  "language_info": {
   "codemirror_mode": {
    "name": "ipython",
    "version": 3
   },
   "file_extension": ".py",
   "mimetype": "text/x-python",
   "name": "python",
   "nbconvert_exporter": "python",
   "pygments_lexer": "ipython3",
   "version": "3.8.8"
  }
 },
 "nbformat": 4,
 "nbformat_minor": 5
}
